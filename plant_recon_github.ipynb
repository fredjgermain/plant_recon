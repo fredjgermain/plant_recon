{
  "nbformat": 4,
  "nbformat_minor": 0,
  "metadata": {
    "colab": {
      "provenance": [],
      "authorship_tag": "ABX9TyOigI0fBdq/P5eL2T5w6KI5",
      "include_colab_link": true
    },
    "kernelspec": {
      "name": "python3",
      "display_name": "Python 3"
    },
    "language_info": {
      "name": "python"
    }
  },
  "cells": [
    {
      "cell_type": "markdown",
      "metadata": {
        "id": "view-in-github",
        "colab_type": "text"
      },
      "source": [
        "<a href=\"https://colab.research.google.com/github/fredjgermain/plant_recon/blob/main/plant_recon_github.ipynb\" target=\"_parent\"><img src=\"https://colab.research.google.com/assets/colab-badge.svg\" alt=\"Open In Colab\"/></a>"
      ]
    },
    {
      "cell_type": "code",
      "execution_count": null,
      "metadata": {
        "colab": {
          "base_uri": "https://localhost:8080/"
        },
        "id": "sbMGLZxZVQmW",
        "outputId": "13b09208-e689-4ad3-d680-3f06bd8fcc56"
      },
      "outputs": [
        {
          "output_type": "stream",
          "name": "stdout",
          "text": [
            "Cloning into 'plant_recon'...\n",
            "remote: Enumerating objects: 4, done.\u001b[K\n",
            "remote: Counting objects: 100% (4/4), done.\u001b[K\n",
            "remote: Compressing objects: 100% (4/4), done.\u001b[K\n",
            "remote: Total 4 (delta 0), reused 4 (delta 0), pack-reused 0\u001b[K\n",
            "Unpacking objects: 100% (4/4), done.\n"
          ]
        }
      ],
      "source": [
        "# Before recloning from github use \"Disconnect and delete runtime\" \n",
        "!git clone https://github.com/fredjgermain/plant_recon.git \n",
        "\n",
        "# Refresh browser or wait a bit to see cloned folder appear in Colab \n",
        "# Once \"/content/plant_recon\" is done cloning in Colab \n",
        "%cd /content/plant_recon \n",
        "%ls \n",
        "!git status "
      ]
    }
  ]
}